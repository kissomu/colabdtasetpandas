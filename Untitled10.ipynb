{
  "nbformat": 4,
  "nbformat_minor": 0,
  "metadata": {
    "colab": {
      "name": "Untitled10.ipynb",
      "provenance": [],
      "authorship_tag": "ABX9TyO8ePwOtvwLXvY2CK80wtgg",
      "include_colab_link": true
    },
    "kernelspec": {
      "name": "python3",
      "display_name": "Python 3"
    },
    "language_info": {
      "name": "python"
    }
  },
  "cells": [
    {
      "cell_type": "markdown",
      "metadata": {
        "id": "view-in-github",
        "colab_type": "text"
      },
      "source": [
        "<a href=\"https://colab.research.google.com/github/kissomu/colabdtasetpandas/blob/main/Untitled10.ipynb\" target=\"_parent\"><img src=\"https://colab.research.google.com/assets/colab-badge.svg\" alt=\"Open In Colab\"/></a>"
      ]
    },
    {
      "cell_type": "code",
      "execution_count": 39,
      "metadata": {
        "id": "mHza_joxJ5qb"
      },
      "outputs": [],
      "source": [
        "import matplotlib.pyplot as plt\n",
        "import numpy as np\n",
        "plt.style.use('dark_background')\n"
      ]
    },
    {
      "cell_type": "code",
      "source": [
        "x_indexes = np.arange(len(x_sclass))\n",
        "width = 0.25\n",
        "x_sclass =[5,6,7,8,9,10,11]\n",
        "score =[556,558,611,555,451,352,112]\n",
        "best = [454,555,456,785,251,351,654]\n",
        "bestest = [221,254,265,289,351,245,654]\n",
        "plt.title ('bar plot')\n",
        "plt.xlabel('class')\n",
        "plt.ylabel('score')\n",
        "plt.xticks(ticks=x_indexes,labels=x_sclass)\n",
        "\n",
        "plt.bar(x_indexes - width ,score, width=width, color='g',label='score')\n",
        "plt.bar(x_indexes ,best,width=width,color='y',label='best')\n",
        "plt.bar(x_indexes + width ,bestest,width=width,color='c',label='bestscore')\n",
        "plt.legend()"
      ],
      "metadata": {
        "colab": {
          "base_uri": "https://localhost:8080/",
          "height": 328
        },
        "id": "SrOVFyM5vLDi",
        "outputId": "48e75bd6-898c-46c0-ef7f-19201ccad505"
      },
      "execution_count": 46,
      "outputs": [
        {
          "output_type": "execute_result",
          "data": {
            "text/plain": [
              "<matplotlib.legend.Legend at 0x7fc7321b0d10>"
            ]
          },
          "metadata": {},
          "execution_count": 46
        },
        {
          "output_type": "display_data",
          "data": {
            "image/png": "[encoded data removed]",
            "text/plain": [
              "<Figure size 432x288 with 1 Axes>"
            ]
          },
          "metadata": {}
        }
      ]
    },
    {
      "cell_type": "code",
      "source": [
        "print(plt.style.available)"
      ],
      "metadata": {
        "colab": {
          "base_uri": "https://localhost:8080/"
        },
        "id": "OMY9rbV1SToV",
        "outputId": "86844c12-3e42-45bb-b2dc-4e01cb9b86a8"
      },
      "execution_count": 29,
      "outputs": [
        {
          "output_type": "stream",
          "name": "stdout",
          "text": [
            "['Solarize_Light2', '_classic_test_patch', 'bmh', 'classic', 'dark_background', 'fast', 'fivethirtyeight', 'ggplot', 'grayscale', 'seaborn', 'seaborn-bright', 'seaborn-colorblind', 'seaborn-dark', 'seaborn-dark-palette', 'seaborn-darkgrid', 'seaborn-deep', 'seaborn-muted', 'seaborn-notebook', 'seaborn-paper', 'seaborn-pastel', 'seaborn-poster', 'seaborn-talk', 'seaborn-ticks', 'seaborn-white', 'seaborn-whitegrid', 'tableau-colorblind10']\n"
          ]
        }
      ]
    }
  ]
}